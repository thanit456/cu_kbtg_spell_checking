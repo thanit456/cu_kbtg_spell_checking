{
 "cells": [
  {
   "cell_type": "code",
   "execution_count": 16,
   "metadata": {},
   "outputs": [],
   "source": [
    "import pandas as pd\n",
    "import numpy as np\n",
    "import os \n",
    "import matplotlib.pyplot as plt\n",
    "from sklearn.model_selection import train_test_split \n",
    "import collections\n",
    "from tqdm import tqdm\n",
    " \n",
    "from tensorflow.keras.layers import Dropout, GRU, Embedding, Input\n",
    "from tensorflow.keras.preprocessing.sequence import pad_sequences\n",
    "from tensorflow.keras.models import Model\n",
    "from tensorflow.keras.optimizers import SGD, RMSprop "
   ]
  },
  {
   "cell_type": "code",
   "execution_count": 3,
   "metadata": {},
   "outputs": [],
   "source": [
    "X = np.load('./data/X_train.npy', allow_pickle=True)\n",
    "y = np.load('./data/y_train.npy', allow_pickle=True)\n",
    "\n",
    "X_train, X_val_test, y_train, y_val_test = train_test_split(X, y, test_size=0.4)\n",
    "X_val, X_test, y_val, y_test = train_test_split(X, y, test_size=0.5)"
   ]
  },
  {
   "cell_type": "code",
   "execution_count": 7,
   "metadata": {},
   "outputs": [
    {
     "name": "stdout",
     "output_type": "stream",
     "text": [
      "108\n"
     ]
    }
   ],
   "source": [
    "data_train = []\n",
    "maxx = 0\n",
    "for data in X_train:\n",
    "    if len(data) > maxx:\n",
    "        maxx = len(data)\n",
    "print(maxx)"
   ]
  },
  {
   "cell_type": "code",
   "execution_count": 43,
   "metadata": {},
   "outputs": [],
   "source": [
    "def create_index(input_text):\n",
    "    # TODO#2:edit or replace this function\n",
    "\n",
    "    # # Create threshold to divide rare word from the chuck of input text\n",
    "    word_counter = collections.Counter(input_text)\n",
    "    words = list()\n",
    "    # THRESH = int(0.001 * len(set(input_text)))\n",
    "    THRESH = 1\n",
    "    for word in tqdm(input_text):\n",
    "        if word_counter[word] >= THRESH:\n",
    "            words.append(word)\n",
    "\n",
    "    # words = [word for word in input_text ]\n",
    "    word_count = list()\n",
    "    #use set and len to get the number of unique words\n",
    "    word_count.extend(collections.Counter(words).most_common(len(set(words))))\n",
    "    #include a token for unknown word\n",
    "    word_count.append((\"UNK\",0))\n",
    "    #print out 10 most frequent words\n",
    "    print(word_count[:20])\n",
    "    dictionary = dict()\n",
    "\n",
    "#     dictionary[\"for_keras_zero_padding\"] = 0\n",
    "    \n",
    "    for word in word_count:\n",
    "        dictionary[word[0]] = len(dictionary)\n",
    "    reverse_dictionary = dict(zip(dictionary.values(), dictionary.keys()))\n",
    "    data = list()\n",
    "    for word in input_text:\n",
    "        if word not in dictionary:\n",
    "            data.append(dictionary['UNK'])\n",
    "        else:\n",
    "            data.append(dictionary[word])\n",
    "\n",
    "    \n",
    "\n",
    "    return data,dictionary, reverse_dictionary\n",
    "\n",
    "def encode_to_feed(chunk_data, dictionary):\n",
    "    result = []\n",
    "    for sentence in chunk_data:\n",
    "        tmp = []\n",
    "        for word in sentence:\n",
    "            if word not in dictionary:\n",
    "                tmp.append(dictionary['UNK'])\n",
    "            else:\n",
    "                tmp.append(dictionary[word])\n",
    "        result.append(tmp)\n",
    "    return result\n"
   ]
  },
  {
   "cell_type": "code",
   "execution_count": 53,
   "metadata": {},
   "outputs": [
    {
     "name": "stderr",
     "output_type": "stream",
     "text": [
      "100%|██████████| 1397/1397 [00:00<00:00, 2873684.50it/s]"
     ]
    },
    {
     "name": "stdout",
     "output_type": "stream",
     "text": [
      "[('', 1), ('ค่', 1), ('ลุง', 1), ('จง', 1), ('9', 1), ('เจ้าตัว', 1), ('อธิบาย', 1), ('จิง', 1), ('รุ้จัก', 1), ('สัดส่วน', 1), ('ฝน', 1), ('ใบ้', 1), ('เทคนิค', 1), ('ค่เ', 1), ('ATM', 1), ('พื้นที่', 1), ('ทำไม', 1), ('โปรโมชั่น', 1), ('อาจ', 1), ('เข้า', 1)]\n"
     ]
    },
    {
     "name": "stderr",
     "output_type": "stream",
     "text": [
      "\n"
     ]
    }
   ],
   "source": [
    "maxlen = 200\n",
    "\n",
    "\n",
    "# flatten to create a dictionary\n",
    "all_train_words = set()\n",
    "for ls in X_train:\n",
    "    tmp = []\n",
    "    for data in ls:\n",
    "        all_train_words.add(data)\n",
    "        tmp.append(data)\n",
    "    tmp = np.array(tmp)\n",
    "    \n",
    "    \n",
    "dataset,dictionary, reverse_dictionary=create_index(all_train_words)\n",
    "    \n",
    "encoded_X_train = encode_to_feed(X_train, dictionary)\n",
    "encoded_X_val = encode_to_feed(X_val, dictionary)\n",
    "encoded_X_test = encode_to_feed(X_test, dictionary)\n",
    "\n",
    "data_train = pad_sequences(encoded_X_train, maxlen=maxlen, padding='post')\n",
    "data_val = pad_sequences(encoded_X_val, maxlen=maxlen, padding='post')\n",
    "data_test = pad_sequences(encoded_X_test, maxlen=maxlen, padding='post')"
   ]
  },
  {
   "cell_type": "code",
   "execution_count": null,
   "metadata": {},
   "outputs": [],
   "source": []
  },
  {
   "cell_type": "code",
   "execution_count": 41,
   "metadata": {},
   "outputs": [
    {
     "data": {
      "text/plain": [
       "1183"
      ]
     },
     "execution_count": 41,
     "metadata": {},
     "output_type": "execute_result"
    }
   ],
   "source": []
  },
  {
   "cell_type": "code",
   "execution_count": 42,
   "metadata": {},
   "outputs": [
    {
     "data": {
      "text/plain": [
       "[552, 1382, 86, 943, 1322, 666, 1242, 1157, 724, 870]"
      ]
     },
     "execution_count": 42,
     "metadata": {},
     "output_type": "execute_result"
    }
   ],
   "source": [
    "encoded_X_train[1]"
   ]
  },
  {
   "cell_type": "code",
   "execution_count": 31,
   "metadata": {},
   "outputs": [
    {
     "data": {
      "text/plain": [
       "5996"
      ]
     },
     "execution_count": 31,
     "metadata": {},
     "output_type": "execute_result"
    }
   ],
   "source": [
    "len(data_train)"
   ]
  },
  {
   "cell_type": "code",
   "execution_count": null,
   "metadata": {},
   "outputs": [],
   "source": []
  }
 ],
 "metadata": {
  "kernelspec": {
   "display_name": "Python 3",
   "language": "python",
   "name": "python3"
  },
  "language_info": {
   "codemirror_mode": {
    "name": "ipython",
    "version": 3
   },
   "file_extension": ".py",
   "mimetype": "text/x-python",
   "name": "python",
   "nbconvert_exporter": "python",
   "pygments_lexer": "ipython3",
   "version": "3.6.9"
  }
 },
 "nbformat": 4,
 "nbformat_minor": 4
}
