{
 "cells": [
  {
   "cell_type": "code",
   "execution_count": 3,
   "metadata": {},
   "outputs": [],
   "source": [
    "import os\n",
    "import pandas as pd\n",
    "import numpy as np\n",
    "import pickle"
   ]
  },
  {
   "cell_type": "code",
   "execution_count": 4,
   "metadata": {},
   "outputs": [
    {
     "data": {
      "text/html": [
       "<div>\n",
       "<style scoped>\n",
       "    .dataframe tbody tr th:only-of-type {\n",
       "        vertical-align: middle;\n",
       "    }\n",
       "\n",
       "    .dataframe tbody tr th {\n",
       "        vertical-align: top;\n",
       "    }\n",
       "\n",
       "    .dataframe thead th {\n",
       "        text-align: right;\n",
       "    }\n",
       "</style>\n",
       "<table border=\"1\" class=\"dataframe\">\n",
       "  <thead>\n",
       "    <tr style=\"text-align: right;\">\n",
       "      <th></th>\n",
       "      <th>index</th>\n",
       "      <th>label</th>\n",
       "    </tr>\n",
       "  </thead>\n",
       "  <tbody>\n",
       "    <tr>\n",
       "      <th>0</th>\n",
       "      <td>0</td>\n",
       "      <td>1</td>\n",
       "    </tr>\n",
       "    <tr>\n",
       "      <th>1</th>\n",
       "      <td>1</td>\n",
       "      <td>0</td>\n",
       "    </tr>\n",
       "    <tr>\n",
       "      <th>2</th>\n",
       "      <td>2</td>\n",
       "      <td>0</td>\n",
       "    </tr>\n",
       "    <tr>\n",
       "      <th>3</th>\n",
       "      <td>3</td>\n",
       "      <td>0</td>\n",
       "    </tr>\n",
       "    <tr>\n",
       "      <th>4</th>\n",
       "      <td>4</td>\n",
       "      <td>0</td>\n",
       "    </tr>\n",
       "  </tbody>\n",
       "</table>\n",
       "</div>"
      ],
      "text/plain": [
       "   index  label\n",
       "0      0      1\n",
       "1      1      0\n",
       "2      2      0\n",
       "3      3      0\n",
       "4      4      0"
      ]
     },
     "execution_count": 4,
     "metadata": {},
     "output_type": "execute_result"
    }
   ],
   "source": [
    "df = pd.read_csv('./data/dict_based.csv')\n",
    "df.head()"
   ]
  },
  {
   "cell_type": "code",
   "execution_count": null,
   "metadata": {},
   "outputs": [],
   "source": []
  },
  {
   "cell_type": "code",
   "execution_count": 5,
   "metadata": {},
   "outputs": [],
   "source": [
    "with open('./data/train.txt') as f:\n",
    "    line = f.readline().strip('\\n')"
   ]
  },
  {
   "cell_type": "code",
   "execution_count": 6,
   "metadata": {},
   "outputs": [
    {
     "name": "stdout",
     "output_type": "stream",
     "text": [
      "'eiei'\n"
     ]
    }
   ],
   "source": [
    "x = \"'eiei'\"\n",
    "# x = x.strip(\"'\")\n",
    "print(x)"
   ]
  },
  {
   "cell_type": "code",
   "execution_count": 32,
   "metadata": {},
   "outputs": [],
   "source": [
    "def read_list_from_txt(path, mode='train'):\n",
    "    with open(path) as f:\n",
    "        lines = f.readlines()\n",
    "    \n",
    "    X = list()\n",
    "    y = list()\n",
    "        \n",
    "    for line in lines:\n",
    "        line = line.strip('\\n')\n",
    "        line = line[1:-1]\n",
    "        sep = line.find(']') + 1 \n",
    "        left = line[:sep].strip()\n",
    "        left = left[1:-1]\n",
    "        right = line[sep+1:].strip()\n",
    "\n",
    "        words = []\n",
    "        for word in left.split(','):\n",
    "            word = word.strip()\n",
    "            word = word.strip(\"'\")\n",
    "            words.append(word)\n",
    "        \n",
    "\n",
    "        right = right.replace('[','')\n",
    "        right = right.replace('],', '|')\n",
    "        right = right.replace('[', '')\n",
    "        right = right.replace(']', '')\n",
    "        right = right.replace(' ', '')\n",
    "\n",
    "        labels = []\n",
    "        tmp = right.split('|')\n",
    "        for label in tmp:\n",
    "            labels.append([int(e) for e in label.split(',')])\n",
    "        y.append(labels)\n",
    "            \n",
    "        X.append(words)\n",
    "        \n",
    "        \n",
    "    return X,y\n",
    "\n",
    "def read_test():\n",
    "    path = './data/test.txt'\n",
    "    with open(path) as f:\n",
    "        lines = f.readlines()\n",
    "        \n",
    "    X = []\n",
    "    for line in lines:\n",
    "        line = line[1: -2]\n",
    "        line = line.split(', ')\n",
    "        words = [e.strip(\"'\") for e in line]\n",
    "        X.append(words)\n",
    "    return X"
   ]
  },
  {
   "cell_type": "code",
   "execution_count": 52,
   "metadata": {},
   "outputs": [],
   "source": [
    "X,y = read_list_from_txt('./data/train.txt')"
   ]
  },
  {
   "cell_type": "code",
   "execution_count": 34,
   "metadata": {},
   "outputs": [],
   "source": [
    "flatten_X = set()\n",
    "tmp = []\n",
    "ignore_word = ['.',' ','\\\\','!','?',',','(',')','\\\\\\\\']\n",
    "for data in X:\n",
    "    tmp.extend(data)\n",
    "for data in tmp:\n",
    "    if data not in ignore_word:\n",
    "        flatten_X.add(data)\n"
   ]
  },
  {
   "cell_type": "code",
   "execution_count": 51,
   "metadata": {},
   "outputs": [
    {
     "data": {
      "text/plain": [
       "['.', ' ', '\\\\', '!', '?', ',', '(', ')', '\\\\\\\\\\\\\\\\']"
      ]
     },
     "execution_count": 51,
     "metadata": {},
     "output_type": "execute_result"
    }
   ],
   "source": [
    "['.',' ','\\\\','!','?',',','(',')','\\\\\\\\\\\\\\\\']"
   ]
  },
  {
   "cell_type": "code",
   "execution_count": 36,
   "metadata": {},
   "outputs": [],
   "source": [
    "X_test = read_test()"
   ]
  },
  {
   "cell_type": "code",
   "execution_count": 43,
   "metadata": {},
   "outputs": [],
   "source": [
    "flatten_X_test = []\n",
    "tmp = []\n",
    "ignore_word = ['.',' ','\\\\','!','?',',','(',')','\\\\\\\\']\n",
    "for data in X_test:\n",
    "    tmp.extend(data)\n",
    "for data in tmp:\n",
    "    if data not in ignore_word:\n",
    "        flatten_X_test.append(data)"
   ]
  },
  {
   "cell_type": "code",
   "execution_count": 48,
   "metadata": {},
   "outputs": [
    {
     "data": {
      "text/plain": [
       "51121"
      ]
     },
     "execution_count": 48,
     "metadata": {},
     "output_type": "execute_result"
    }
   ],
   "source": [
    "len(flatten_X_test)"
   ]
  },
  {
   "cell_type": "code",
   "execution_count": 53,
   "metadata": {},
   "outputs": [],
   "source": [
    "# for i in flatten_X_test:\n",
    "#     if len(i) == 1:\n",
    "#         print(i)"
   ]
  },
  {
   "cell_type": "code",
   "execution_count": 55,
   "metadata": {},
   "outputs": [],
   "source": [
    "X = np.array(X)"
   ]
  },
  {
   "cell_type": "code",
   "execution_count": 62,
   "metadata": {},
   "outputs": [],
   "source": [
    "np.save('./data/X_train.npy', X)"
   ]
  },
  {
   "cell_type": "code",
   "execution_count": 63,
   "metadata": {},
   "outputs": [],
   "source": [
    "np.save('./data/y_train.npy', y)"
   ]
  },
  {
   "cell_type": "code",
   "execution_count": 65,
   "metadata": {},
   "outputs": [],
   "source": [
    "y = np.load('./data/y_train.npy',allow_pickle=True)"
   ]
  },
  {
   "cell_type": "code",
   "execution_count": 66,
   "metadata": {},
   "outputs": [
    {
     "data": {
      "text/plain": [
       "array([list([[0, 1]]), list([[13, 14]]), list([[5, 6]]), ...,\n",
       "       list([[3, 4]]), list([[2, 3]]), list([[4, 6]])], dtype=object)"
      ]
     },
     "execution_count": 66,
     "metadata": {},
     "output_type": "execute_result"
    }
   ],
   "source": [
    "y"
   ]
  },
  {
   "cell_type": "code",
   "execution_count": null,
   "metadata": {},
   "outputs": [],
   "source": []
  }
 ],
 "metadata": {
  "kernelspec": {
   "display_name": "Python 3",
   "language": "python",
   "name": "python3"
  },
  "language_info": {
   "codemirror_mode": {
    "name": "ipython",
    "version": 3
   },
   "file_extension": ".py",
   "mimetype": "text/x-python",
   "name": "python",
   "nbconvert_exporter": "python",
   "pygments_lexer": "ipython3",
   "version": "3.6.9"
  }
 },
 "nbformat": 4,
 "nbformat_minor": 4
}
